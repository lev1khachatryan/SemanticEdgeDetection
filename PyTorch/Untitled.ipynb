{
 "cells": [
  {
   "cell_type": "code",
   "execution_count": 1,
   "metadata": {},
   "outputs": [],
   "source": [
    "# System libs\n",
    "import os\n",
    "import time\n",
    "# import math\n",
    "import random\n",
    "import argparse\n",
    "from distutils.version import LooseVersion\n",
    "# Numerical libs\n",
    "import torch\n",
    "import torch.nn as nn\n",
    "# Our libs\n",
    "from config import *\n",
    "from dataset import TrainDataset\n",
    "# from models import ModelBuilder, SegmentationModule\n",
    "from models import *\n",
    "from utils import AverageMeter, parse_devices, setup_logger\n",
    "from lib.nn import UserScatteredDataParallel, user_scattered_collate, patch_replication_callback"
   ]
  },
  {
   "cell_type": "code",
   "execution_count": 2,
   "metadata": {},
   "outputs": [],
   "source": [
    "from matplotlib import pyplot as plt"
   ]
  },
  {
   "cell_type": "code",
   "execution_count": 3,
   "metadata": {},
   "outputs": [],
   "source": [
    "cfg = {\n",
    "    'root_dataset' : \"./data/\",\n",
    "    'list_train' : \"./data/training.odgt\",\n",
    "    'list_val' : \"./data/validation.odgt\",\n",
    "    'num_class' : 2,\n",
    "    'imgSizes' : (480, 480),\n",
    "    'imgMaxSize' : 1000,\n",
    "    'padding_constant' : 8,\n",
    "    'segm_downsampling_rate' : 8,\n",
    "    'random_flip' : True\n",
    "}"
   ]
  },
  {
   "cell_type": "code",
   "execution_count": 4,
   "metadata": {},
   "outputs": [],
   "source": [
    "from types import SimpleNamespace\n",
    "cfg = SimpleNamespace(**cfg)\n"
   ]
  },
  {
   "cell_type": "code",
   "execution_count": 5,
   "metadata": {},
   "outputs": [
    {
     "name": "stdout",
     "output_type": "stream",
     "text": [
      "# samples: 5\n"
     ]
    }
   ],
   "source": [
    "dataset_train = TrainDataset(\n",
    "        './dataset/',\n",
    "        './data/training.odgt',\n",
    "        cfg,\n",
    "        batch_per_gpu=2)"
   ]
  },
  {
   "cell_type": "code",
   "execution_count": 6,
   "metadata": {},
   "outputs": [],
   "source": [
    "loader_train = torch.utils.data.DataLoader(\n",
    "        dataset_train,\n",
    "        batch_size=1,  # we have modified data_parallel\n",
    "        shuffle=False,  # we do not use this param\n",
    "        collate_fn=user_scattered_collate,\n",
    "        num_workers=1,\n",
    "        drop_last=True,\n",
    "        pin_memory=True)"
   ]
  },
  {
   "cell_type": "code",
   "execution_count": 7,
   "metadata": {},
   "outputs": [],
   "source": [
    "iterator_train = iter(loader_train)"
   ]
  },
  {
   "cell_type": "code",
   "execution_count": 8,
   "metadata": {},
   "outputs": [],
   "source": [
    "a = next(iterator_train)"
   ]
  },
  {
   "cell_type": "code",
   "execution_count": null,
   "metadata": {},
   "outputs": [],
   "source": []
  },
  {
   "cell_type": "code",
   "execution_count": 10,
   "metadata": {},
   "outputs": [
    {
     "ename": "TypeError",
     "evalue": "list indices must be integers or slices, not str",
     "output_type": "error",
     "traceback": [
      "\u001b[1;31m---------------------------------------------------------------------------\u001b[0m",
      "\u001b[1;31mTypeError\u001b[0m                                 Traceback (most recent call last)",
      "\u001b[1;32m<ipython-input-10-ddfd02a2fd3e>\u001b[0m in \u001b[0;36m<module>\u001b[1;34m\u001b[0m\n\u001b[1;32m----> 1\u001b[1;33m \u001b[0ma\u001b[0m\u001b[1;33m[\u001b[0m\u001b[1;34m'img_data'\u001b[0m\u001b[1;33m]\u001b[0m\u001b[1;33m\u001b[0m\u001b[1;33m\u001b[0m\u001b[0m\n\u001b[0m",
      "\u001b[1;31mTypeError\u001b[0m: list indices must be integers or slices, not str"
     ]
    }
   ],
   "source": [
    "a['img_data']"
   ]
  },
  {
   "cell_type": "code",
   "execution_count": null,
   "metadata": {},
   "outputs": [],
   "source": [
    "a[0]['img_data'].shape"
   ]
  },
  {
   "cell_type": "code",
   "execution_count": null,
   "metadata": {},
   "outputs": [],
   "source": [
    "a[0]['seg_label'].shape"
   ]
  },
  {
   "cell_type": "code",
   "execution_count": null,
   "metadata": {},
   "outputs": [],
   "source": [
    "plt.imshow(a[0]['img_data'][0, :, : , :].permute((1, 2, 0)))"
   ]
  },
  {
   "cell_type": "code",
   "execution_count": null,
   "metadata": {
    "scrolled": true
   },
   "outputs": [],
   "source": [
    "plt.imshow(a[0]['seg_label'][0, :, :])"
   ]
  },
  {
   "cell_type": "code",
   "execution_count": null,
   "metadata": {},
   "outputs": [],
   "source": [
    "plt.imshow(a[0]['img_data'][1, :, : , :].permute((1, 2, 0)))"
   ]
  },
  {
   "cell_type": "code",
   "execution_count": null,
   "metadata": {
    "scrolled": true
   },
   "outputs": [],
   "source": [
    "plt.imshow(a[0]['seg_label'][1, :, :])"
   ]
  },
  {
   "cell_type": "code",
   "execution_count": null,
   "metadata": {},
   "outputs": [],
   "source": []
  },
  {
   "cell_type": "code",
   "execution_count": null,
   "metadata": {},
   "outputs": [],
   "source": []
  },
  {
   "cell_type": "code",
   "execution_count": null,
   "metadata": {},
   "outputs": [],
   "source": []
  },
  {
   "cell_type": "code",
   "execution_count": null,
   "metadata": {},
   "outputs": [],
   "source": []
  },
  {
   "cell_type": "code",
   "execution_count": null,
   "metadata": {},
   "outputs": [],
   "source": []
  },
  {
   "cell_type": "code",
   "execution_count": null,
   "metadata": {},
   "outputs": [],
   "source": [
    "cfg = {\n",
    "    'a' : {\n",
    "        'b' : 2\n",
    "    },\n",
    "    'c' : 5\n",
    "}"
   ]
  },
  {
   "cell_type": "code",
   "execution_count": null,
   "metadata": {},
   "outputs": [],
   "source": [
    "from types import SimpleNamespace\n",
    "cfg = SimpleNamespace(**cfg)\n"
   ]
  },
  {
   "cell_type": "code",
   "execution_count": null,
   "metadata": {},
   "outputs": [],
   "source": []
  },
  {
   "cell_type": "code",
   "execution_count": null,
   "metadata": {},
   "outputs": [],
   "source": []
  },
  {
   "cell_type": "code",
   "execution_count": null,
   "metadata": {},
   "outputs": [],
   "source": []
  },
  {
   "cell_type": "code",
   "execution_count": null,
   "metadata": {},
   "outputs": [],
   "source": [
    "assert LooseVersion(torch.__version__) >= LooseVersion('0.4.0'), \\\n",
    "    'PyTorch>=0.4.0 is required'\n",
    "\n",
    "parser = argparse.ArgumentParser(\n",
    "    description=\"PyTorch Semantic Segmentation Training\"\n",
    ")\n",
    "parser.add_argument(\n",
    "    \"--cfg\",\n",
    "    default=\"config/resnet50dilated-ppm_deepsup.yaml\",\n",
    "    metavar=\"FILE\",\n",
    "    help=\"path to config file\",\n",
    "    type=str,\n",
    ")\n",
    "# parser.add_argument(\n",
    "#     \"--gpus\",\n",
    "#     default=\"0-3\",\n",
    "#     help=\"gpus to use, e.g. 0-3 or 0,1,2,3\"\n",
    "# )\n",
    "parser.add_argument(\n",
    "    \"--gpus\",\n",
    "    default=\"0\",\n",
    "    help=\"gpus to use, e.g. 0-3 or 0,1,2,3\"\n",
    ")\n",
    "parser.add_argument(\n",
    "    \"opts\",\n",
    "    help=\"Modify config options using the command-line\",\n",
    "    default=None,\n",
    "    nargs=argparse.REMAINDER,\n",
    ")\n",
    "args = parser.parse_args(args=[])"
   ]
  },
  {
   "cell_type": "code",
   "execution_count": null,
   "metadata": {},
   "outputs": [],
   "source": [
    "cfg.merge_from_file(args.cfg)\n",
    "cfg.merge_from_list(args.opts)\n",
    "# cfg.freeze()\n",
    "\n",
    "logger = setup_logger(distributed_rank=0)   # TODO\n",
    "logger.info(\"Loaded configuration file {}\".format(args.cfg))\n",
    "logger.info(\"Running with config:\\n{}\".format(cfg))\n",
    "\n",
    "# Output directory\n",
    "if not os.path.isdir(cfg.DIR):\n",
    "    os.makedirs(cfg.DIR)\n",
    "logger.info(\"Outputing checkpoints to: {}\".format(cfg.DIR))\n",
    "with open(os.path.join(cfg.DIR, 'config.yaml'), 'w') as f:\n",
    "    f.write(\"{}\".format(cfg))\n",
    "\n",
    "# Start from checkpoint\n",
    "if cfg.TRAIN.start_epoch > 0:\n",
    "    cfg.MODEL.weights_encoder = os.path.join(\n",
    "        cfg.DIR, 'encoder_epoch_{}.pth'.format(cfg.TRAIN.start_epoch))\n",
    "    cfg.MODEL.weights_decoder = os.path.join(\n",
    "        cfg.DIR, 'decoder_epoch_{}.pth'.format(cfg.TRAIN.start_epoch))\n",
    "    assert os.path.exists(cfg.MODEL.weights_encoder) and \\\n",
    "        os.path.exists(cfg.MODEL.weights_decoder), \"checkpoint does not exitst!\"\n",
    "\n",
    "# Parse gpu ids\n",
    "gpus = parse_devices(args.gpus)\n",
    "gpus = [x.replace('gpu', '') for x in gpus]\n",
    "gpus = [int(x) for x in gpus]\n",
    "num_gpus = len(gpus)\n",
    "cfg.TRAIN.batch_size = num_gpus * cfg.TRAIN.batch_size_per_gpu\n",
    "\n",
    "cfg.TRAIN.max_iters = cfg.TRAIN.epoch_iters * cfg.TRAIN.num_epoch\n",
    "cfg.TRAIN.running_lr_encoder = cfg.TRAIN.lr_encoder\n",
    "cfg.TRAIN.running_lr_decoder = cfg.TRAIN.lr_decoder\n",
    "\n",
    "random.seed(cfg.TRAIN.seed)\n",
    "torch.manual_seed(cfg.TRAIN.seed)\n",
    "\n",
    "main(cfg, gpus)\n"
   ]
  },
  {
   "cell_type": "code",
   "execution_count": null,
   "metadata": {},
   "outputs": [],
   "source": []
  }
 ],
 "metadata": {
  "kernelspec": {
   "display_name": "Python 3",
   "language": "python",
   "name": "python3"
  },
  "language_info": {
   "codemirror_mode": {
    "name": "ipython",
    "version": 3
   },
   "file_extension": ".py",
   "mimetype": "text/x-python",
   "name": "python",
   "nbconvert_exporter": "python",
   "pygments_lexer": "ipython3",
   "version": "3.7.3"
  }
 },
 "nbformat": 4,
 "nbformat_minor": 2
}
